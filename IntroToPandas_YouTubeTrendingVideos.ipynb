{
 "cells": [
  {
   "cell_type": "markdown",
   "id": "reported-chemistry",
   "metadata": {},
   "source": [
    "## Data Loading"
   ]
  },
  {
   "cell_type": "code",
   "execution_count": 1,
   "id": "measured-broadway",
   "metadata": {},
   "outputs": [],
   "source": [
    "import pandas as pd"
   ]
  },
  {
   "cell_type": "code",
   "execution_count": 2,
   "id": "brilliant-advertiser",
   "metadata": {},
   "outputs": [],
   "source": [
    "df = pd.read_csv(\"dataset/YouTubeTrendingVideos/trending.csv\")"
   ]
  },
  {
   "cell_type": "code",
   "execution_count": 3,
   "id": "dramatic-nothing",
   "metadata": {
    "scrolled": true
   },
   "outputs": [
    {
     "name": "stdout",
     "output_type": "stream",
     "text": [
      "num of rows: 15723\n",
      "num of cols: 26\n"
     ]
    }
   ],
   "source": [
    "num_rows, num_cols = df.shape\n",
    "print(\"num of rows:\", num_rows)\n",
    "print(\"num of cols:\", num_cols)"
   ]
  },
  {
   "cell_type": "markdown",
   "id": "executive-robin",
   "metadata": {},
   "source": [
    "## Data types and general information of the data"
   ]
  },
  {
   "cell_type": "code",
   "execution_count": 4,
   "id": "received-client",
   "metadata": {},
   "outputs": [
    {
     "data": {
      "text/plain": [
       "publish_time          object\n",
       "channel_id            object\n",
       "title                 object\n",
       "description           object\n",
       "thumbnail_url        float64\n",
       "thumbnail_width      float64\n",
       "thumbnail_height     float64\n",
       "channel_name          object\n",
       "tags                  object\n",
       "category_id            int64\n",
       "live_status           object\n",
       "local_title           object\n",
       "local_description     object\n",
       "duration              object\n",
       "dimension             object\n",
       "definition            object\n",
       "caption                 bool\n",
       "license_status          bool\n",
       "allowed_region        object\n",
       "blocked_region        object\n",
       "view                 float64\n",
       "like                 float64\n",
       "dislike              float64\n",
       "favorite               int64\n",
       "comment              float64\n",
       "trending_time         object\n",
       "dtype: object"
      ]
     },
     "execution_count": 4,
     "metadata": {},
     "output_type": "execute_result"
    }
   ],
   "source": [
    "df.dtypes"
   ]
  },
  {
   "cell_type": "markdown",
   "id": "recorded-climb",
   "metadata": {},
   "source": [
    "## Summary statistics of numerical and categorical columns"
   ]
  },
  {
   "cell_type": "code",
   "execution_count": 5,
   "id": "enclosed-coordinate",
   "metadata": {},
   "outputs": [
    {
     "data": {
      "text/html": [
       "<div>\n",
       "<style scoped>\n",
       "    .dataframe tbody tr th:only-of-type {\n",
       "        vertical-align: middle;\n",
       "    }\n",
       "\n",
       "    .dataframe tbody tr th {\n",
       "        vertical-align: top;\n",
       "    }\n",
       "\n",
       "    .dataframe thead th {\n",
       "        text-align: right;\n",
       "    }\n",
       "</style>\n",
       "<table border=\"1\" class=\"dataframe\">\n",
       "  <thead>\n",
       "    <tr style=\"text-align: right;\">\n",
       "      <th></th>\n",
       "      <th>publish_time</th>\n",
       "      <th>channel_id</th>\n",
       "      <th>title</th>\n",
       "      <th>description</th>\n",
       "      <th>thumbnail_url</th>\n",
       "      <th>thumbnail_width</th>\n",
       "      <th>thumbnail_height</th>\n",
       "      <th>channel_name</th>\n",
       "      <th>tags</th>\n",
       "      <th>category_id</th>\n",
       "      <th>...</th>\n",
       "      <th>caption</th>\n",
       "      <th>license_status</th>\n",
       "      <th>allowed_region</th>\n",
       "      <th>blocked_region</th>\n",
       "      <th>view</th>\n",
       "      <th>like</th>\n",
       "      <th>dislike</th>\n",
       "      <th>favorite</th>\n",
       "      <th>comment</th>\n",
       "      <th>trending_time</th>\n",
       "    </tr>\n",
       "  </thead>\n",
       "  <tbody>\n",
       "    <tr>\n",
       "      <th>0</th>\n",
       "      <td>2021-02-05T09:00:34Z</td>\n",
       "      <td>UCEf_Bc-KVd7onSeifS3py9g</td>\n",
       "      <td>aespa 에스파 'Forever (약속)' MV</td>\n",
       "      <td>aespa's new single \"Forever\" is out!\\nListen a...</td>\n",
       "      <td>NaN</td>\n",
       "      <td>NaN</td>\n",
       "      <td>NaN</td>\n",
       "      <td>SMTOWN</td>\n",
       "      <td>NaN</td>\n",
       "      <td>10</td>\n",
       "      <td>...</td>\n",
       "      <td>True</td>\n",
       "      <td>True</td>\n",
       "      <td>NaN</td>\n",
       "      <td>NaN</td>\n",
       "      <td>7806846.0</td>\n",
       "      <td>857902.0</td>\n",
       "      <td>24078.0</td>\n",
       "      <td>0</td>\n",
       "      <td>94961.0</td>\n",
       "      <td>2021-02-07 05:46:51.832614+00:00</td>\n",
       "    </tr>\n",
       "    <tr>\n",
       "      <th>1</th>\n",
       "      <td>2021-02-04T15:54:08Z</td>\n",
       "      <td>UCYEa4_MC7OFjcWrO6SO-u8g</td>\n",
       "      <td>[FULL] Siapa di Balik Kudeta AHY? | Dua Sisi t...</td>\n",
       "      <td>Jakarta, https://www.tvonenews.com - Ketua umu...</td>\n",
       "      <td>NaN</td>\n",
       "      <td>NaN</td>\n",
       "      <td>NaN</td>\n",
       "      <td>Indonesia Lawyers Club</td>\n",
       "      <td>['tvone', 'tv one', 'tvonenews', 'indonesia la...</td>\n",
       "      <td>25</td>\n",
       "      <td>...</td>\n",
       "      <td>False</td>\n",
       "      <td>True</td>\n",
       "      <td>NaN</td>\n",
       "      <td>NaN</td>\n",
       "      <td>885038.0</td>\n",
       "      <td>6765.0</td>\n",
       "      <td>1263.0</td>\n",
       "      <td>0</td>\n",
       "      <td>6365.0</td>\n",
       "      <td>2021-02-07 05:46:51.832649+00:00</td>\n",
       "    </tr>\n",
       "    <tr>\n",
       "      <th>2</th>\n",
       "      <td>2021-02-06T03:00:22Z</td>\n",
       "      <td>UCu12RxQjRQyh79YBYvEDkOg</td>\n",
       "      <td>CABRIOLET CHALLENGE: TANTANGAN MENGGODA (7/12)</td>\n",
       "      <td>Road Party Season 2: Cabriolet Challenge\\n\\nEp...</td>\n",
       "      <td>NaN</td>\n",
       "      <td>NaN</td>\n",
       "      <td>NaN</td>\n",
       "      <td>Motomobi</td>\n",
       "      <td>['MotoMobi', 'Mobil', 'motor', 'review', 'indo...</td>\n",
       "      <td>2</td>\n",
       "      <td>...</td>\n",
       "      <td>False</td>\n",
       "      <td>True</td>\n",
       "      <td>NaN</td>\n",
       "      <td>NaN</td>\n",
       "      <td>889708.0</td>\n",
       "      <td>47895.0</td>\n",
       "      <td>532.0</td>\n",
       "      <td>0</td>\n",
       "      <td>8785.0</td>\n",
       "      <td>2021-02-07 05:46:51.832664+00:00</td>\n",
       "    </tr>\n",
       "    <tr>\n",
       "      <th>3</th>\n",
       "      <td>2021-02-05T20:26:08Z</td>\n",
       "      <td>UCCuzDCoI3EUOo_nhCj4noSw</td>\n",
       "      <td>With Windah Basudara &amp; Hans</td>\n",
       "      <td>Join this channel to get access to perks:\\nhtt...</td>\n",
       "      <td>NaN</td>\n",
       "      <td>NaN</td>\n",
       "      <td>NaN</td>\n",
       "      <td>yb</td>\n",
       "      <td>NaN</td>\n",
       "      <td>20</td>\n",
       "      <td>...</td>\n",
       "      <td>False</td>\n",
       "      <td>True</td>\n",
       "      <td>NaN</td>\n",
       "      <td>NaN</td>\n",
       "      <td>1006854.0</td>\n",
       "      <td>91973.0</td>\n",
       "      <td>3967.0</td>\n",
       "      <td>0</td>\n",
       "      <td>12957.0</td>\n",
       "      <td>2021-02-07 05:46:51.832678+00:00</td>\n",
       "    </tr>\n",
       "    <tr>\n",
       "      <th>4</th>\n",
       "      <td>2021-02-03T23:14:54Z</td>\n",
       "      <td>UC14UlmYlSNiQCBe9Eookf_A</td>\n",
       "      <td>🤯 LATE COMEBACK DRAMA! | HIGHLIGHTS | Granada ...</td>\n",
       "      <td>With just two minutes to play, Barça looked to...</td>\n",
       "      <td>NaN</td>\n",
       "      <td>NaN</td>\n",
       "      <td>NaN</td>\n",
       "      <td>FC Barcelona</td>\n",
       "      <td>['FC Barcelona', 'برشلونة،', 'Fútbol', 'FUTBOL...</td>\n",
       "      <td>17</td>\n",
       "      <td>...</td>\n",
       "      <td>False</td>\n",
       "      <td>True</td>\n",
       "      <td>NaN</td>\n",
       "      <td>NaN</td>\n",
       "      <td>6275035.0</td>\n",
       "      <td>218131.0</td>\n",
       "      <td>4289.0</td>\n",
       "      <td>0</td>\n",
       "      <td>12799.0</td>\n",
       "      <td>2021-02-07 05:46:51.832730+00:00</td>\n",
       "    </tr>\n",
       "    <tr>\n",
       "      <th>...</th>\n",
       "      <td>...</td>\n",
       "      <td>...</td>\n",
       "      <td>...</td>\n",
       "      <td>...</td>\n",
       "      <td>...</td>\n",
       "      <td>...</td>\n",
       "      <td>...</td>\n",
       "      <td>...</td>\n",
       "      <td>...</td>\n",
       "      <td>...</td>\n",
       "      <td>...</td>\n",
       "      <td>...</td>\n",
       "      <td>...</td>\n",
       "      <td>...</td>\n",
       "      <td>...</td>\n",
       "      <td>...</td>\n",
       "      <td>...</td>\n",
       "      <td>...</td>\n",
       "      <td>...</td>\n",
       "      <td>...</td>\n",
       "      <td>...</td>\n",
       "    </tr>\n",
       "    <tr>\n",
       "      <th>15718</th>\n",
       "      <td>2021-05-31T02:54:03Z</td>\n",
       "      <td>UCdOovgmIPfj9a-o3VP5i2_g</td>\n",
       "      <td>Dipastikan Cair Juni 2021, Begini Rincian Gaji...</td>\n",
       "      <td>MERDEKA.COM - Kementerian Keuangan memastikan ...</td>\n",
       "      <td>NaN</td>\n",
       "      <td>NaN</td>\n",
       "      <td>NaN</td>\n",
       "      <td>MerdekaDotCom</td>\n",
       "      <td>['Merdeka', 'Merdeka.com', 'Politik', 'Indones...</td>\n",
       "      <td>25</td>\n",
       "      <td>...</td>\n",
       "      <td>False</td>\n",
       "      <td>True</td>\n",
       "      <td>NaN</td>\n",
       "      <td>NaN</td>\n",
       "      <td>62006.0</td>\n",
       "      <td>333.0</td>\n",
       "      <td>59.0</td>\n",
       "      <td>0</td>\n",
       "      <td>137.0</td>\n",
       "      <td>2021-06-02 06:00:58.386262+00:00</td>\n",
       "    </tr>\n",
       "    <tr>\n",
       "      <th>15719</th>\n",
       "      <td>2021-05-23T08:10:20Z</td>\n",
       "      <td>UCuHZc9VgSdMmfHawZVhjuPA</td>\n",
       "      <td>Tik Tok - [JACK] Chàng Họa Sĩ Triệu View Trong...</td>\n",
       "      <td>Tik Tok - [JACK] Chàng Họa Sĩ Triệu View Trong...</td>\n",
       "      <td>NaN</td>\n",
       "      <td>NaN</td>\n",
       "      <td>NaN</td>\n",
       "      <td>HT 1 - Tik Tok</td>\n",
       "      <td>['jack', 'tik tok jack họa sĩ triệu view p42',...</td>\n",
       "      <td>24</td>\n",
       "      <td>...</td>\n",
       "      <td>False</td>\n",
       "      <td>True</td>\n",
       "      <td>NaN</td>\n",
       "      <td>NaN</td>\n",
       "      <td>3670035.0</td>\n",
       "      <td>35276.0</td>\n",
       "      <td>3561.0</td>\n",
       "      <td>0</td>\n",
       "      <td>338.0</td>\n",
       "      <td>2021-06-02 06:00:58.386269+00:00</td>\n",
       "    </tr>\n",
       "    <tr>\n",
       "      <th>15720</th>\n",
       "      <td>2021-05-29T02:00:11Z</td>\n",
       "      <td>UCryTse99bm6E23COfZ-XCyw</td>\n",
       "      <td>NDC Worship - Lagu Cinta Untuk-Mu (Official Mu...</td>\n",
       "      <td>#NDCWorship #LaguCintaUntukMu #NDCWorshipMight...</td>\n",
       "      <td>NaN</td>\n",
       "      <td>NaN</td>\n",
       "      <td>NaN</td>\n",
       "      <td>NDC Worship</td>\n",
       "      <td>['Lagu Cinta Untuk-Mu', 'Mighty', 'NDC Worship...</td>\n",
       "      <td>10</td>\n",
       "      <td>...</td>\n",
       "      <td>False</td>\n",
       "      <td>True</td>\n",
       "      <td>NaN</td>\n",
       "      <td>NaN</td>\n",
       "      <td>62157.0</td>\n",
       "      <td>4378.0</td>\n",
       "      <td>27.0</td>\n",
       "      <td>0</td>\n",
       "      <td>233.0</td>\n",
       "      <td>2021-06-02 06:00:58.386276+00:00</td>\n",
       "    </tr>\n",
       "    <tr>\n",
       "      <th>15721</th>\n",
       "      <td>2021-05-29T22:04:04Z</td>\n",
       "      <td>UCaNeFN9L6CHcfn_FA7I_Wng</td>\n",
       "      <td>Timo Werner Loses Voice When Celebrating UCL F...</td>\n",
       "      <td>Timo Werner loses his voice during the celebra...</td>\n",
       "      <td>NaN</td>\n",
       "      <td>NaN</td>\n",
       "      <td>NaN</td>\n",
       "      <td>DAZN Canada</td>\n",
       "      <td>['Chelsea', 'Manchester City', 'Timo', 'Werner...</td>\n",
       "      <td>17</td>\n",
       "      <td>...</td>\n",
       "      <td>False</td>\n",
       "      <td>True</td>\n",
       "      <td>NaN</td>\n",
       "      <td>NaN</td>\n",
       "      <td>1022531.0</td>\n",
       "      <td>28701.0</td>\n",
       "      <td>307.0</td>\n",
       "      <td>0</td>\n",
       "      <td>1306.0</td>\n",
       "      <td>2021-06-02 06:00:58.386283+00:00</td>\n",
       "    </tr>\n",
       "    <tr>\n",
       "      <th>15722</th>\n",
       "      <td>2021-05-29T13:54:13Z</td>\n",
       "      <td>UCOHM2N1YQdb-cHWxJxwBMLQ</td>\n",
       "      <td>아는 형님(Knowing bros) 283회 예고편</td>\n",
       "      <td>🚨형님학고 기숙사가 위험하다🚨\\n형님들을 구해줄 에스파\\n\\n기숙사 침입자 블랙맘바...</td>\n",
       "      <td>NaN</td>\n",
       "      <td>NaN</td>\n",
       "      <td>NaN</td>\n",
       "      <td>아는형님 Knowingbros</td>\n",
       "      <td>['아는 형님', '형님', '형님 학교', '데프콘', '에스파', 'aespa'...</td>\n",
       "      <td>24</td>\n",
       "      <td>...</td>\n",
       "      <td>False</td>\n",
       "      <td>True</td>\n",
       "      <td>NaN</td>\n",
       "      <td>NaN</td>\n",
       "      <td>668280.0</td>\n",
       "      <td>37385.0</td>\n",
       "      <td>419.0</td>\n",
       "      <td>0</td>\n",
       "      <td>1897.0</td>\n",
       "      <td>2021-06-02 06:00:58.386292+00:00</td>\n",
       "    </tr>\n",
       "  </tbody>\n",
       "</table>\n",
       "<p>15723 rows × 26 columns</p>\n",
       "</div>"
      ],
      "text/plain": [
       "               publish_time                channel_id  \\\n",
       "0      2021-02-05T09:00:34Z  UCEf_Bc-KVd7onSeifS3py9g   \n",
       "1      2021-02-04T15:54:08Z  UCYEa4_MC7OFjcWrO6SO-u8g   \n",
       "2      2021-02-06T03:00:22Z  UCu12RxQjRQyh79YBYvEDkOg   \n",
       "3      2021-02-05T20:26:08Z  UCCuzDCoI3EUOo_nhCj4noSw   \n",
       "4      2021-02-03T23:14:54Z  UC14UlmYlSNiQCBe9Eookf_A   \n",
       "...                     ...                       ...   \n",
       "15718  2021-05-31T02:54:03Z  UCdOovgmIPfj9a-o3VP5i2_g   \n",
       "15719  2021-05-23T08:10:20Z  UCuHZc9VgSdMmfHawZVhjuPA   \n",
       "15720  2021-05-29T02:00:11Z  UCryTse99bm6E23COfZ-XCyw   \n",
       "15721  2021-05-29T22:04:04Z  UCaNeFN9L6CHcfn_FA7I_Wng   \n",
       "15722  2021-05-29T13:54:13Z  UCOHM2N1YQdb-cHWxJxwBMLQ   \n",
       "\n",
       "                                                   title  \\\n",
       "0                            aespa 에스파 'Forever (약속)' MV   \n",
       "1      [FULL] Siapa di Balik Kudeta AHY? | Dua Sisi t...   \n",
       "2         CABRIOLET CHALLENGE: TANTANGAN MENGGODA (7/12)   \n",
       "3                            With Windah Basudara & Hans   \n",
       "4      🤯 LATE COMEBACK DRAMA! | HIGHLIGHTS | Granada ...   \n",
       "...                                                  ...   \n",
       "15718  Dipastikan Cair Juni 2021, Begini Rincian Gaji...   \n",
       "15719  Tik Tok - [JACK] Chàng Họa Sĩ Triệu View Trong...   \n",
       "15720  NDC Worship - Lagu Cinta Untuk-Mu (Official Mu...   \n",
       "15721  Timo Werner Loses Voice When Celebrating UCL F...   \n",
       "15722                       아는 형님(Knowing bros) 283회 예고편   \n",
       "\n",
       "                                             description  thumbnail_url  \\\n",
       "0      aespa's new single \"Forever\" is out!\\nListen a...            NaN   \n",
       "1      Jakarta, https://www.tvonenews.com - Ketua umu...            NaN   \n",
       "2      Road Party Season 2: Cabriolet Challenge\\n\\nEp...            NaN   \n",
       "3      Join this channel to get access to perks:\\nhtt...            NaN   \n",
       "4      With just two minutes to play, Barça looked to...            NaN   \n",
       "...                                                  ...            ...   \n",
       "15718  MERDEKA.COM - Kementerian Keuangan memastikan ...            NaN   \n",
       "15719  Tik Tok - [JACK] Chàng Họa Sĩ Triệu View Trong...            NaN   \n",
       "15720  #NDCWorship #LaguCintaUntukMu #NDCWorshipMight...            NaN   \n",
       "15721  Timo Werner loses his voice during the celebra...            NaN   \n",
       "15722  🚨형님학고 기숙사가 위험하다🚨\\n형님들을 구해줄 에스파\\n\\n기숙사 침입자 블랙맘바...            NaN   \n",
       "\n",
       "       thumbnail_width  thumbnail_height            channel_name  \\\n",
       "0                  NaN               NaN                  SMTOWN   \n",
       "1                  NaN               NaN  Indonesia Lawyers Club   \n",
       "2                  NaN               NaN                Motomobi   \n",
       "3                  NaN               NaN                      yb   \n",
       "4                  NaN               NaN            FC Barcelona   \n",
       "...                ...               ...                     ...   \n",
       "15718              NaN               NaN           MerdekaDotCom   \n",
       "15719              NaN               NaN          HT 1 - Tik Tok   \n",
       "15720              NaN               NaN             NDC Worship   \n",
       "15721              NaN               NaN             DAZN Canada   \n",
       "15722              NaN               NaN        아는형님 Knowingbros   \n",
       "\n",
       "                                                    tags  category_id  ...  \\\n",
       "0                                                    NaN           10  ...   \n",
       "1      ['tvone', 'tv one', 'tvonenews', 'indonesia la...           25  ...   \n",
       "2      ['MotoMobi', 'Mobil', 'motor', 'review', 'indo...            2  ...   \n",
       "3                                                    NaN           20  ...   \n",
       "4      ['FC Barcelona', 'برشلونة،', 'Fútbol', 'FUTBOL...           17  ...   \n",
       "...                                                  ...          ...  ...   \n",
       "15718  ['Merdeka', 'Merdeka.com', 'Politik', 'Indones...           25  ...   \n",
       "15719  ['jack', 'tik tok jack họa sĩ triệu view p42',...           24  ...   \n",
       "15720  ['Lagu Cinta Untuk-Mu', 'Mighty', 'NDC Worship...           10  ...   \n",
       "15721  ['Chelsea', 'Manchester City', 'Timo', 'Werner...           17  ...   \n",
       "15722  ['아는 형님', '형님', '형님 학교', '데프콘', '에스파', 'aespa'...           24  ...   \n",
       "\n",
       "      caption license_status allowed_region blocked_region       view  \\\n",
       "0        True           True            NaN            NaN  7806846.0   \n",
       "1       False           True            NaN            NaN   885038.0   \n",
       "2       False           True            NaN            NaN   889708.0   \n",
       "3       False           True            NaN            NaN  1006854.0   \n",
       "4       False           True            NaN            NaN  6275035.0   \n",
       "...       ...            ...            ...            ...        ...   \n",
       "15718   False           True            NaN            NaN    62006.0   \n",
       "15719   False           True            NaN            NaN  3670035.0   \n",
       "15720   False           True            NaN            NaN    62157.0   \n",
       "15721   False           True            NaN            NaN  1022531.0   \n",
       "15722   False           True            NaN            NaN   668280.0   \n",
       "\n",
       "           like  dislike  favorite  comment                     trending_time  \n",
       "0      857902.0  24078.0         0  94961.0  2021-02-07 05:46:51.832614+00:00  \n",
       "1        6765.0   1263.0         0   6365.0  2021-02-07 05:46:51.832649+00:00  \n",
       "2       47895.0    532.0         0   8785.0  2021-02-07 05:46:51.832664+00:00  \n",
       "3       91973.0   3967.0         0  12957.0  2021-02-07 05:46:51.832678+00:00  \n",
       "4      218131.0   4289.0         0  12799.0  2021-02-07 05:46:51.832730+00:00  \n",
       "...         ...      ...       ...      ...                               ...  \n",
       "15718     333.0     59.0         0    137.0  2021-06-02 06:00:58.386262+00:00  \n",
       "15719   35276.0   3561.0         0    338.0  2021-06-02 06:00:58.386269+00:00  \n",
       "15720    4378.0     27.0         0    233.0  2021-06-02 06:00:58.386276+00:00  \n",
       "15721   28701.0    307.0         0   1306.0  2021-06-02 06:00:58.386283+00:00  \n",
       "15722   37385.0    419.0         0   1897.0  2021-06-02 06:00:58.386292+00:00  \n",
       "\n",
       "[15723 rows x 26 columns]"
      ]
     },
     "execution_count": 5,
     "metadata": {},
     "output_type": "execute_result"
    }
   ],
   "source": [
    "df_summary = df[list(df.columns)].copy()\n",
    "df_summary"
   ]
  },
  {
   "cell_type": "markdown",
   "id": "younger-portuguese",
   "metadata": {},
   "source": [
    "## Subsetting the dataset based on publish date, trending date, channels, etc."
   ]
  },
  {
   "cell_type": "code",
   "execution_count": 6,
   "id": "academic-oklahoma",
   "metadata": {},
   "outputs": [
    {
     "data": {
      "text/plain": [
       "0        2021-02-05T09:00:34Z\n",
       "1        2021-02-04T15:54:08Z\n",
       "2        2021-02-06T03:00:22Z\n",
       "3        2021-02-05T20:26:08Z\n",
       "4        2021-02-03T23:14:54Z\n",
       "                 ...         \n",
       "15718    2021-05-31T02:54:03Z\n",
       "15719    2021-05-23T08:10:20Z\n",
       "15720    2021-05-29T02:00:11Z\n",
       "15721    2021-05-29T22:04:04Z\n",
       "15722    2021-05-29T13:54:13Z\n",
       "Name: publish_time, Length: 15723, dtype: object"
      ]
     },
     "execution_count": 6,
     "metadata": {},
     "output_type": "execute_result"
    }
   ],
   "source": [
    "df_summary.iloc[:, 0]"
   ]
  },
  {
   "cell_type": "code",
   "execution_count": 7,
   "id": "eligible-hardware",
   "metadata": {},
   "outputs": [
    {
     "data": {
      "text/plain": [
       "0        UCEf_Bc-KVd7onSeifS3py9g\n",
       "1        UCYEa4_MC7OFjcWrO6SO-u8g\n",
       "2        UCu12RxQjRQyh79YBYvEDkOg\n",
       "3        UCCuzDCoI3EUOo_nhCj4noSw\n",
       "4        UC14UlmYlSNiQCBe9Eookf_A\n",
       "                   ...           \n",
       "15718    UCdOovgmIPfj9a-o3VP5i2_g\n",
       "15719    UCuHZc9VgSdMmfHawZVhjuPA\n",
       "15720    UCryTse99bm6E23COfZ-XCyw\n",
       "15721    UCaNeFN9L6CHcfn_FA7I_Wng\n",
       "15722    UCOHM2N1YQdb-cHWxJxwBMLQ\n",
       "Name: channel_id, Length: 15723, dtype: object"
      ]
     },
     "execution_count": 7,
     "metadata": {},
     "output_type": "execute_result"
    }
   ],
   "source": [
    "df_summary.iloc[:, 1]"
   ]
  },
  {
   "cell_type": "code",
   "execution_count": 8,
   "id": "robust-sender",
   "metadata": {},
   "outputs": [
    {
     "data": {
      "text/plain": [
       "0        2021-02-07 05:46:51.832614+00:00\n",
       "1        2021-02-07 05:46:51.832649+00:00\n",
       "2        2021-02-07 05:46:51.832664+00:00\n",
       "3        2021-02-07 05:46:51.832678+00:00\n",
       "4        2021-02-07 05:46:51.832730+00:00\n",
       "                       ...               \n",
       "15718    2021-06-02 06:00:58.386262+00:00\n",
       "15719    2021-06-02 06:00:58.386269+00:00\n",
       "15720    2021-06-02 06:00:58.386276+00:00\n",
       "15721    2021-06-02 06:00:58.386283+00:00\n",
       "15722    2021-06-02 06:00:58.386292+00:00\n",
       "Name: trending_time, Length: 15723, dtype: object"
      ]
     },
     "execution_count": 8,
     "metadata": {},
     "output_type": "execute_result"
    }
   ],
   "source": [
    "df_summary.iloc[:, -1]"
   ]
  },
  {
   "cell_type": "markdown",
   "id": "quick-luther",
   "metadata": {},
   "source": [
    "## Grouping based on channels, trending date, etc., and aggregate on average, median, etc."
   ]
  },
  {
   "cell_type": "code",
   "execution_count": 9,
   "id": "checked-ivory",
   "metadata": {},
   "outputs": [
    {
     "data": {
      "text/plain": [
       "channel_name                                 trending_time                   \n",
       "(G)I-DLE (여자)아이들 (Official YouTube Channel)  2021-05-15 06:00:40.636700+00:00    1097.0\n",
       "                                             2021-05-16 12:42:32.143653+00:00    1316.0\n",
       "                                             2021-05-16 14:23:24.523991+00:00    1321.0\n",
       "                                             2021-05-17 06:06:15.784797+00:00    1397.0\n",
       "                                             2021-05-18 06:02:16.872742+00:00    1484.0\n",
       "                                                                                  ...  \n",
       "딩고 뮤직 / dingo music                          2021-04-04 04:08:30.743015+00:00    1686.0\n",
       "                                             2021-04-05 13:18:39.780131+00:00    1884.0\n",
       "                                             2021-04-06 14:32:23.610170+00:00    2040.0\n",
       "스브스케이팝 / SBS KPOP                            2021-05-14 12:56:08.335988+00:00     186.0\n",
       "                                             2021-05-14 13:00:11.622578+00:00     186.0\n",
       "Name: dislike, Length: 4051, dtype: float64"
      ]
     },
     "execution_count": 9,
     "metadata": {},
     "output_type": "execute_result"
    }
   ],
   "source": [
    "df[df[\"category_id\"] == 10].groupby([\"channel_name\", \"trending_time\"], sort=True)[\"dislike\"].sum()"
   ]
  },
  {
   "cell_type": "code",
   "execution_count": 10,
   "id": "prostate-gospel",
   "metadata": {},
   "outputs": [
    {
     "data": {
      "text/plain": [
       "channel_name\n",
       "(G)I-DLE (여자)아이들 (Official YouTube Channel)     1230.0\n",
       "1IDMusic                                         117.0\n",
       "3D Entertainment                                 526.0\n",
       "3way Asiska                                      702.5\n",
       "88rising                                         255.0\n",
       "                                                ...   \n",
       "ХАБИБ                                          16125.0\n",
       "コブクロ 公式チャンネル                                     474.5\n",
       "日テレ「スッキリ」公式チャンネル                                2664.0\n",
       "딩고 뮤직 / dingo music                             1629.0\n",
       "스브스케이팝 / SBS KPOP                                186.0\n",
       "Name: dislike, Length: 330, dtype: float64"
      ]
     },
     "execution_count": 10,
     "metadata": {},
     "output_type": "execute_result"
    }
   ],
   "source": [
    "df[df[\"category_id\"] == 10].groupby(\"channel_name\", sort=True)[\"dislike\"].median()"
   ]
  },
  {
   "cell_type": "code",
   "execution_count": 11,
   "id": "considered-plasma",
   "metadata": {},
   "outputs": [
    {
     "data": {
      "text/plain": [
       "channel_name\n",
       "(G)I-DLE (여자)아이들 (Official YouTube Channel)     1210.555556\n",
       "1IDMusic                                         104.666667\n",
       "3D Entertainment                                2016.120000\n",
       "3way Asiska                                      655.888889\n",
       "88rising                                         368.090909\n",
       "                                                   ...     \n",
       "ХАБИБ                                          24223.640000\n",
       "コブクロ 公式チャンネル                                     474.500000\n",
       "日テレ「スッキリ」公式チャンネル                                2528.000000\n",
       "딩고 뮤직 / dingo music                             1550.500000\n",
       "스브스케이팝 / SBS KPOP                                186.000000\n",
       "Name: dislike, Length: 330, dtype: float64"
      ]
     },
     "execution_count": 11,
     "metadata": {},
     "output_type": "execute_result"
    }
   ],
   "source": [
    "df[df[\"category_id\"] == 10].groupby(\"channel_name\", sort=True)[\"dislike\"].mean()"
   ]
  },
  {
   "cell_type": "markdown",
   "id": "graduate-march",
   "metadata": {},
   "source": [
    "## Number of unique channels or videos, overall average comments, likes, views, etc."
   ]
  },
  {
   "cell_type": "code",
   "execution_count": 18,
   "id": "bearing-suggestion",
   "metadata": {},
   "outputs": [
    {
     "name": "stdout",
     "output_type": "stream",
     "text": [
      "Num of unique channels : 1139\n",
      "Num of unique titles : 3700\n"
     ]
    }
   ],
   "source": [
    "print(\"Num of unique channels :\", df[\"channel_name\"].nunique())\n",
    "print(\"Num of unique titles :\", df[\"title\"].nunique())"
   ]
  },
  {
   "cell_type": "code",
   "execution_count": 19,
   "id": "further-adolescent",
   "metadata": {},
   "outputs": [
    {
     "name": "stdout",
     "output_type": "stream",
     "text": [
      "Overall average views : 3115091.5034043905\n",
      "Overall average comment : 22674.911642211828\n",
      "Overall average like : 155631.31753401688\n",
      "Overall average dislike : 3534.680273424905\n"
     ]
    }
   ],
   "source": [
    "print(\"Overall average views :\", df[\"view\"].mean())\n",
    "print(\"Overall average comment :\", df[\"comment\"].mean())\n",
    "print(\"Overall average like :\", df[\"like\"].mean())\n",
    "print(\"Overall average dislike :\", df[\"dislike\"].mean())"
   ]
  }
 ],
 "metadata": {
  "kernelspec": {
   "display_name": "Python 3",
   "language": "python",
   "name": "python3"
  },
  "language_info": {
   "codemirror_mode": {
    "name": "ipython",
    "version": 3
   },
   "file_extension": ".py",
   "mimetype": "text/x-python",
   "name": "python",
   "nbconvert_exporter": "python",
   "pygments_lexer": "ipython3",
   "version": "3.7.9"
  }
 },
 "nbformat": 4,
 "nbformat_minor": 5
}
